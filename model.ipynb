{
 "cells": [
  {
   "cell_type": "code",
   "execution_count": null,
   "metadata": {},
   "outputs": [
    {
     "name": "stdout",
     "output_type": "stream",
     "text": [
      "Hello! How can I assist you today?\n"
     ]
    }
   ],
   "source": [
    "import os\n",
    "from openai import OpenAI\n",
    "from dotenv import load_dotenv\n",
    "\n",
    "\n",
    "load_dotenv()\n",
    "\n",
    "OPENAI_API_KEY = os.getenv('OPENAI_API_KEY')\n",
    "\n",
    "client = OpenAI(\n",
    "    api_key = OPENAI_API_KEY\n",
    ")\n",
    "\n",
    "completion = client.chat.completions.create(\n",
    "    model='gpt-3.5-turbo',\n",
    "    messages=[{'role':'user', 'content':'hi'}],\n",
    "    temperature=0\n",
    ")\n",
    "\n",
    "print(completion.choices[0].message.content)\n"
   ]
  },
  {
   "cell_type": "markdown",
   "metadata": {},
   "source": [
    "## 데이터 전처리 함수 작성\n",
    "리뷰 JSON 파일 로드"
   ]
  },
  {
   "cell_type": "code",
   "execution_count": 11,
   "metadata": {},
   "outputs": [
    {
     "data": {
      "text/plain": [
       "[{'review': '서울 호캉스를 알아보다가 접근성 좋은 용산역 바로앞에 위치한 나인트리 프리미어 로카우스 호텔 서울 용산!! 정말 기대 이상으로 호텔시설, 애프터눈 티,\\r\\n수영장, 해피아워, 야경, 조식 이 모든거를 다 누렸는데!\\r\\n\\r\\n가격이 20만원 초중반이라니 😍 정말 엄마도 너무 좋아하시고 저도 너무 행복했던 야놀자에 있는 이그제큐티브 라운지 상품 강추합니다👍👍👍\\r\\n\\r\\n애프터눈티- 체크인 직후에 라운지에서 티타임❤️\\r\\n가볍게 샌드위치랑 쿠키가 나왔어요\\r\\n\\r\\n수영장- 1,2,3부 중에 원하는 시간 선택해서 이용하는 방식이고 그래서 그런지 다른 수영장 대비 사람이 엄청 많지도 않았어요 카바나 이런거도 무료라 무조건 빨리 입장하셔서 좋은자리 잡는거 추천드려용! 💕\\r\\n\\r\\n해피아워- 연어,불고기,치즈 각종음식들이 생각보다 종류도 많고 5성급 해피아워에 밀리지 않는 음식 퀼리티여서 진짜 해피아워 이용하면서 더 반한 로카우스!! 와인, 보드카가 좀 아쉬운거 빼고는 진짜 굿\\r\\n\\r\\n야경 정말 완벽 그자체! 제가 3번째 사진에서 찍은것은 해피아워 라운지10층 왼쪽복도 맨끝!!\\r\\n\\r\\n조식- 가짓수는 30~40여가지로 엄청 많은것도 적지도 않은 가짓수에요 근데 맛이 다 좋아서 ㅎㅎ\\r\\n아침부터 폭풍식사 했습니다. 다만 1부, 2부든 무조건 빨리가세오 안그러면 웨이팅 있습니다.\\r\\n\\r\\n나인트리 프리미어 로카우스 호텔 서울 용산\\r\\n서울 호캉스로 가성비도 좋고 기대이상 다 좋아서 만족도 정말 높은 호캉스였어용 또올게용❤️👍',\n",
       "  'stars': 5,\n",
       "  'date': '2024.01.24'},\n",
       " {'review': '한강뷰가 잘 안보인다는 후기가 있어 걱정했는데 통창으로 너무 잘보였어요!!!! 짱짱!!!',\n",
       "  'stars': 5,\n",
       "  'date': '1일 전'},\n",
       " {'review': '서울 출장으로 편하게 쉬었습니다', 'stars': 5, 'date': '2일 전'}]"
      ]
     },
     "execution_count": 11,
     "metadata": {},
     "output_type": "execute_result"
    }
   ],
   "source": [
    "import json\n",
    "\n",
    "with open('./res/reviews.json', 'r') as f:\n",
    "    review_list = json.load(f)\n",
    "    \n",
    "review_list[:3]"
   ]
  },
  {
   "cell_type": "markdown",
   "metadata": {},
   "source": [
    "좋은 평점 및 나쁜 평점 정의\n",
    "- 좋은 평점 = 별점 5개\n",
    "- 나쁜 평점 = 별점 4개 이하"
   ]
  },
  {
   "cell_type": "code",
   "execution_count": 12,
   "metadata": {},
   "outputs": [
    {
     "data": {
      "text/plain": [
       "(188, 32)"
      ]
     },
     "execution_count": 12,
     "metadata": {},
     "output_type": "execute_result"
    }
   ],
   "source": [
    "good_cnt, bad_cnt = 0, 0\n",
    "for r in review_list:\n",
    "    if r['stars'] == 5:\n",
    "        good_cnt += 1\n",
    "    else:\n",
    "        bad_cnt += 1\n",
    "\n",
    "# 좋은 리뷰, 나쁜 리뷰\n",
    "good_cnt, bad_cnt"
   ]
  },
  {
   "cell_type": "markdown",
   "metadata": {},
   "source": [
    "좋은 리뷰 및 나쁜 리뷰로 구분후 저장"
   ]
  },
  {
   "cell_type": "code",
   "execution_count": 13,
   "metadata": {},
   "outputs": [
    {
     "data": {
      "text/plain": [
       "['[REVIEW_START]깨끗하고 좋앗어요\\n다음에 또가고 싶어요[REVIEW_END]',\n",
       " '[REVIEW_START]좋아요~~다음에 재방문할게요[REVIEW_END]',\n",
       " '[REVIEW_START]이런 집에서 살고 싶은 청와대 주변과 매우 잘 어울리는 숙소\\n\\n입구에서 나는 향이 좋고 방 디자인이 미국식 인테리어일거 같다\\n미군들도 많이 이용하는거 같다\\n\\n훌륭하다[REVIEW_END]']"
      ]
     },
     "execution_count": 13,
     "metadata": {},
     "output_type": "execute_result"
    }
   ],
   "source": [
    "reviews_good, reviews_bad = [], []\n",
    "for r in review_list:\n",
    "    if r['stars'] == 5:\n",
    "        reviews_good.append('[REVIEW_START]' + r['review'] + '[REVIEW_END]')\n",
    "    else:\n",
    "        reviews_bad.append('[REVIEW_START]' + r['review'] + '[REVIEW_END]')\n",
    "\n",
    "reviews_bad[:3]"
   ]
  },
  {
   "cell_type": "code",
   "execution_count": 14,
   "metadata": {},
   "outputs": [
    {
     "data": {
      "text/plain": [
       "'[REVIEW_START]깨끗하고 좋앗어요\\n다음에 또가고 싶어요[REVIEW_END]\\n[REVIEW_START]좋아요~~다음에 재방문할게요[REVIEW_END]\\n[REVIEW_ST'"
      ]
     },
     "execution_count": 14,
     "metadata": {},
     "output_type": "execute_result"
    }
   ],
   "source": [
    "reviews_good_text = '\\n'.join(reviews_good)\n",
    "reviews_bad_text = '\\n'.join(reviews_bad)\n",
    "\n",
    "reviews_bad_text[:100]"
   ]
  },
  {
   "cell_type": "markdown",
   "metadata": {},
   "source": [
    "전처리 함수 작성"
   ]
  },
  {
   "cell_type": "code",
   "execution_count": 16,
   "metadata": {},
   "outputs": [
    {
     "data": {
      "text/plain": [
       "'[REVIEW_START]한강뷰가 잘 안보인다는 후기가 있어 걱정했는데 통창으로 너무 잘보였어요!!!! 짱짱!!![REVIEW_END]\\n[REVIEW_START]서울 출장으로 편하'"
      ]
     },
     "execution_count": 16,
     "metadata": {},
     "output_type": "execute_result"
    }
   ],
   "source": [
    "import datetime\n",
    "from dateutil import parser\n",
    "\n",
    "def preprocess_reviews(path='./res/reviews.json'):\n",
    "    with open(path, 'r', encoding='utf-8') as f:\n",
    "        review_list = json.load(f)\n",
    "        \n",
    "    reviews_good, reviews_bad = [], []\n",
    "    \n",
    "    current_date = datetime.datetime.now()\n",
    "    date_boundary = current_date - datetime.timedelta(days=6*30)\n",
    "    \n",
    "    for r in review_list:\n",
    "        review_date_str = r['date']\n",
    "        # 몇 일전, 몇 시간전 등의 예외 케이스를 대응하기 위한 try~excpet\n",
    "        try:\n",
    "            review_date = parser.parse(review_date_str)\n",
    "        except (ValueError, TypeError):\n",
    "            # 최대 일주일간은 현재 날짜로 대체\n",
    "            review_date = current_date\n",
    "        \n",
    "        if review_date < date_boundary:\n",
    "            continue\n",
    "        \n",
    "        if r['stars'] == 5:\n",
    "            reviews_good.append('[REVIEW_START]' + r['review'] + '[REVIEW_END]')\n",
    "        else:\n",
    "            reviews_bad.append('[REVIEW_START]' + r['review'] + '[REVIEW_END]')\n",
    "            \n",
    "    reviews_good_text = '\\n'.join(reviews_good)\n",
    "    reviews_bad_text = '\\n'.join(reviews_bad)\n",
    "    \n",
    "    return reviews_good_text, reviews_bad_text\n",
    "\n",
    "good, bad = preprocess_reviews()\n",
    "good[:100]"
   ]
  },
  {
   "cell_type": "markdown",
   "metadata": {},
   "source": [
    "## 평가용 함수 작성\n",
    "평가 기준 설정\n",
    "- MT-Bench 논문 기반 Pairwise Comparision (=LLM 기반 평가)\n",
    "    - 비교하는 방식 VS 점수 매기는 방식\n",
    "    - 점수라는것이 애매할 수 있음(EX. 어느 정도의 요약 품질이 3점인가?)\n",
    "    - 경험상 점수보다는 비교가 상대적으로 더 정확한 편"
   ]
  },
  {
   "cell_type": "markdown",
   "metadata": {},
   "source": [
    "평가 스크립트 작성\n",
    "- MT-Bench 논문 Prompt에서 일부 단어만 수정"
   ]
  },
  {
   "cell_type": "code",
   "execution_count": 18,
   "metadata": {},
   "outputs": [],
   "source": [
    "def pairwise_eval(reviews, answer_a, answer_b):\n",
    "    # 원래는 뉴스 비교 프롬프트 지만 조금 수정함\n",
    "    # 1. x -> korean summaries\n",
    "    # 2. news -> accommodations\n",
    "    eval_prompt = f\"\"\"[System]\n",
    "Please act as an impartial judge and evaluate the quality of the Korean summaries provided by two\n",
    "AI assistants to the set of user reviews on accommodations displayed below. You should choose the assistant that\n",
    "follows the user’s instructions and answers the user’s question better. Your evaluation\n",
    "should consider factors such as the helpfulness, relevance, accuracy, depth, creativity,\n",
    "and level of detail of their responses. Begin your evaluation by comparing the two\n",
    "responses and provide a short explanation. Avoid any position biases and ensure that the\n",
    "order in which the responses were presented does not influence your decision. Do not allow\n",
    "the length of the responses to influence your evaluation. Do not favor certain names of\n",
    "the assistants. Be as objective as possible. After providing your explanation, output your\n",
    "final verdict by strictly following this format: \"[[A]]\" if assistant A is better, \"[[B]]\"\n",
    "if assistant B is better, and \"[[C]]\" for a tie.\n",
    "[User Reviews]\n",
    "{reviews}\n",
    "[The Start of Assistant A’s Answer]\n",
    "{answer_a}\n",
    "[The End of Assistant A’s Answer]\n",
    "[The Start of Assistant B’s Answer]\n",
    "{answer_b}\n",
    "[The End of Assistant B’s Answer]\"\"\"\n",
    "\n",
    "    completion = client.chat.completions.create(\n",
    "        model='gpt-4o',\n",
    "        messages=[{'role':'user', 'content': eval_prompt}],\n",
    "        temperature=0\n",
    "    )\n",
    "    \n",
    "    return completion"
   ]
  },
  {
   "cell_type": "markdown",
   "metadata": {},
   "source": [
    "## Baseline 모델 개발"
   ]
  },
  {
   "cell_type": "code",
   "execution_count": 19,
   "metadata": {},
   "outputs": [],
   "source": [
    "PROMPT_BASELINE = f\"\"\"아래 숙소 리뷰에 대해 5문장 내로 요약해줘:\"\"\""
   ]
  },
  {
   "cell_type": "code",
   "execution_count": 22,
   "metadata": {},
   "outputs": [
    {
     "data": {
      "text/plain": [
       "'한강뷰가 걱정됐지만 통창으로 잘 보였고, 서울 출장으로 편하게 쉬었다. 방과 야경이 좋았고, 수영장은 작지만 재미있었고, 깨끗하고 친절한 숙소였다. 만족스럽고, 나무랄데 없이 깔끔한 방과 좋은 시간을 보냈다. 위치도 좋고, 편안하게 잘 쉬었다.'"
      ]
     },
     "execution_count": 22,
     "metadata": {},
     "output_type": "execute_result"
    }
   ],
   "source": [
    "reviews, _ = preprocess_reviews(path='./res/reviews.json')\n",
    "\n",
    "def summarize(reviews, prompt, temperature=0.0, model='gpt-3.5-turbo'):\n",
    "    prompt = prompt + '\\n\\n' + reviews\n",
    "    \n",
    "    completion = client.chat.completions.create(\n",
    "         model=model,\n",
    "         messages=[{'role':'user', 'content': prompt}],\n",
    "         temperature=temperature\n",
    "    )\n",
    "    \n",
    "    return completion\n",
    "\n",
    "summarize(reviews, PROMPT_BASELINE).choices[0].message.content"
   ]
  },
  {
   "cell_type": "code",
   "execution_count": 24,
   "metadata": {},
   "outputs": [],
   "source": [
    "summary_real_20241114 = '본 숙소는 용산역과 가까운 뛰어난 접근성을 자랑하며, 주변에 편의시설이 잘 갖추어져 있습니다. 객실은 깨끗하고 넓으며, 한강과 도시 전경을 감상할 수 있는 전망이 좋습니다. 고객 서비스와 직원의 친절함이 우수하며, 조식의 품질도 높습니다. 수영장은 작지만 깔끔하게 관리되고 있으며, 전반적으로 편안한 휴식을 제공합니다. 다만 주차비가 비싼 점은 유의해야 합니다. 전체적으로 매우 만족스러운 숙박 경험을 제공하는 곳입니다.'"
   ]
  },
  {
   "cell_type": "code",
   "execution_count": 25,
   "metadata": {},
   "outputs": [
    {
     "name": "stdout",
     "output_type": "stream",
     "text": [
      "Both Assistant A and Assistant B provided summaries of the user reviews, but there are some differences in their approaches and details.\n",
      "\n",
      "Assistant A's summary focuses on specific aspects mentioned in the reviews, such as the view from the room, the comfort during a business trip, the quality of the room and night view, the small size of the swimming pool, and the high parking fees. It also highlights the cleanliness, friendliness, and good location of the accommodation, as well as the satisfaction with the facilities and services. The summary captures a range of experiences and opinions from the reviews, providing a broad overview of the positive and negative aspects mentioned by the users.\n",
      "\n",
      "Assistant B's summary, on the other hand, emphasizes the location's accessibility, the cleanliness and spaciousness of the rooms, the good view of the Han River and cityscape, the quality of customer service, and the breakfast. It also mentions the small but well-maintained swimming pool and the high parking fees. The summary is more structured and concise, focusing on key features and overall satisfaction.\n",
      "\n",
      "In terms of helpfulness, relevance, and accuracy, both summaries capture the essence of the reviews. However, Assistant B's response is more organized and provides a clearer picture of the accommodation's strengths and weaknesses. It also covers a wider range of aspects, such as the accessibility and the quality of breakfast, which are important factors for potential guests.\n",
      "\n",
      "Therefore, based on the criteria of helpfulness, relevance, accuracy, and level of detail, Assistant B's summary is slightly better.\n",
      "\n",
      "[[B]]\n"
     ]
    }
   ],
   "source": [
    "print(pairwise_eval(reviews, summarize(reviews, PROMPT_BASELINE).choices[0].message.content, summary_real_20241114).choices[0].message.content)"
   ]
  },
  {
   "cell_type": "markdown",
   "metadata": {},
   "source": [
    "## 대규모 평가 스크립트\n",
    "- 원래는 많은 수의 다양한 데이터에 대해 평가를 하지만, 동일한 Prompt에 대해 temperature 높여서 평가 진행"
   ]
  },
  {
   "cell_type": "code",
   "execution_count": null,
   "metadata": {},
   "outputs": [
    {
     "data": {
      "text/plain": [
       "['한강뷰는 통창으로 잘 보였고 편하게 서울 출장 잘 쉬었다. 방과 야경이 좋았지만 주차비가 조금 아쉬웠고, 깨끗하고 만족스러운 호텔이었으며 편하게 잘 쉬었다. 최고로 만족스러운 시간을 보내고, 호텔 청결도와 서비스에 감동했고, 즐거운 휴가를 보냈다고 했다. 위치와 친절, 청결 모두 좋았고, 넓고 시티 뷰가 좋았다.',\n",
       " '한강뷰가 너무 잘 보임. 서울 출장할 때 편하게 쉬기 좋음. 시설, 야경, 직원 서비스 모두 만족스러움. 용산역 근처에 위치하며 친절한 직원들과 깔끔한 객실로 편안한 휴식을 즐길 수 있음. 쾌적하고 편안한 숙박 경험.',\n",
       " '1. 한강뷰를 통창으로 잘 볼 수 있어서 만족스러웠고, 서울 출장으로 편안하게 쉬었다.\\n2. 숙소 방과 야경이 좋았으며, 다음에 또 방문하겠다는 계획이었다.\\n3. 깨끗하고 친절한 숙소지만 주차비가 비싸다는 아쉬움이 남는다.\\n4. 깨끗하고 쾌적한 서울 호텔로, 위치와 시설 등 모두 만족스러웠다.\\n5. 고객응대가 친절하고, 시설이 좋아 다시 방문할 의사가 있는 호텔이었다.',\n",
       " '한강뷰를 걱정했지만 통창으로 잘 보였고, 서울 출장으로 편안하게 쉬기 좋았다. 수영장은 작지만 재밌게 놀 수 있었고, 호텔은 깨끗하고 친절해 위치도 좋았다. 다음에 또 방문할 의사가 있다.',\n",
       " '한강뷰가 걱정돼 했지만 통창을 통해 좋은 전망을 즐기고 출장 숙소로서 편했다. 방과 야경, 아침 전망이 훌륭하고, 친절하고 깨끗한 숙소였다. 다만 주차비가 비싸다는 점이 아쉽고, 일두호텔에 호텔 서비스와 시설에 만족하면서 머물렀다. 위치와 편의성이 좋고, 서울에서 최고로 깨끗하고 최고라 평가할 수 있는 호텔이었다. 생일이나 기념일에도 좋은 선택이며, 남산, 한강 뷰로 매력적이었다. 추천합니다.',\n",
       " '한강뷰가 잘 안보인다는 걱정을 했지만 통유리로 너무 잘 보였고, 서울 출장으로 편하게 쉴 수 있었던 호텔입니다. 다음 방문을 고려중인 생각 좀 크게, 친절하고 깨끗한 서비스를 받았고, 미국식인테리어로 세련되었지만 편안함을 주는 호텔이었습니다. 종합적으로 모두 만족할 만한 훌륭한 시설을 가지고 있었던 호텔입니다. 위치나 청결도 컨디션이나 다 꽤 좋았고, 아주 편안하게 쉬었다 갔습니다.',\n",
       " '1. 한강뷰가 통창으로 잘 보여서 짱짱했고, 서울 출장으로 편하게 쉬었다.\\n2. 방과 야경이 좋았고, 수영장은 작았지만 재밌게 놀았고, 주차비가 비싸다는 단점을 언급했다.\\n3. 깨끗하고 좋은 호텔로 만족하며 체류했고, 주변 맛집이 풍부하여 다시 방문 의사가 있다.\\n4. 호텔 전반적으로 만족스럽고, 방은 깔끔하고 좋았다.\\n5. 서비스와 시설이 좋고, 뷰도 훌륭했다.',\n",
       " '쾌적한 객실과 서비스로 만족스러운 호텔 체험을 한 후 다음 방문을 고려 중인 고객의 리뷰. 한강뷰가 아주 좋았고, 위치도 편리했다. 공간은 깔끔하고 조식이 맛있었으며 직원들의 친절함에 감동받은 것 같다. 호캉스나 비즈니스 여행으로 추천할 만한 숙소로 평가받았다.',\n",
       " '1. 한강뷰가 통창으로 잘 보여서 짱짱한 호텔\\n2. 서울 출장으로 편안히 쉬었음\\n3. 친절한 직원과 좋은 전망, 아침 전망이 훌륭함\\n4. 위치와 서비스가 모두 좋아서 만족스러운 호텔\\n5. 깨끗하고 침대가 편안한 최고의 휴식공간',\n",
       " '1. 한강뷰가 잘 안 보인다는 우려 끝에 통창으로 잘 보여서 만족했다.\\n2. 서울 출장으로 편안하게 쉬었다.\\n3. 방과 야경이 좋았고, 다음에도 방문할 의사가 있다.\\n4. 깨끗하고 편리한 위치에 만족하지만 주차비가 비싸다는 후기도 있었다.\\n5. 직원 친절과 깔끔한 시설로 전반적으로 만족스럽다.']"
      ]
     },
     "execution_count": 26,
     "metadata": {},
     "output_type": "execute_result"
    }
   ],
   "source": [
    "# 10개의 다른 요약을 하여 대조군과 비교하여 얼마나 더 좋고, 좋지 않고, 혹은 무승부인지 확인하기\n",
    "# 10번은 적다 -> 현재는 6개월치 데이터만 가져왔을 뿐\n",
    "# 그래도 50번~100번은 사용해야한다 -> gpt-4 비용 급등\n",
    "eval_count = 10\n",
    "\n",
    "summaries_baseline = [summarize(reviews, PROMPT_BASELINE, temperature=1.0).choices[0].message.content for _ in range(eval_count)]\n",
    "summaries_baseline"
   ]
  },
  {
   "cell_type": "code",
   "execution_count": 27,
   "metadata": {},
   "outputs": [
    {
     "name": "stderr",
     "output_type": "stream",
     "text": [
      "100%|██████████| 10/10 [00:54<00:00,  5.45s/it]"
     ]
    },
    {
     "name": "stdout",
     "output_type": "stream",
     "text": [
      "Wins: 0, Losses: 10, Ties: 0\n"
     ]
    },
    {
     "name": "stderr",
     "output_type": "stream",
     "text": [
      "\n"
     ]
    }
   ],
   "source": [
    "from tqdm import tqdm\n",
    "\n",
    "def pairwise_eval_batch(reviews, answers_a, answers_b):\n",
    "    a_cnt, b_cnt, draw_cnt = 0, 0, 0\n",
    "    for i in tqdm(range(len(answers_a))):\n",
    "        completion = pairwise_eval(reviews, answers_a[i], answers_b[i])\n",
    "        verdict_text = completion.choices[0].message.content\n",
    "        \n",
    "        if '[[A]]' in verdict_text:\n",
    "            a_cnt +=1 \n",
    "        elif '[[B]]' in verdict_text:\n",
    "            b_cnt += 1\n",
    "        elif '[[C]]' in verdict_text:\n",
    "            draw_cnt += 1\n",
    "        else:\n",
    "            print('Evalutaion ERROR!')\n",
    "\n",
    "    return a_cnt, b_cnt, draw_cnt\n",
    "\n",
    "wins, loses, ties = pairwise_eval_batch(reviews, summaries_baseline, [summary_real_20241114 for _ in range(len(summaries_baseline))])\n",
    "print(f'Wins: {wins}, Losses: {loses}, Ties: {ties}')"
   ]
  },
  {
   "cell_type": "code",
   "execution_count": null,
   "metadata": {},
   "outputs": [],
   "source": []
  }
 ],
 "metadata": {
  "kernelspec": {
   "display_name": "yanolja",
   "language": "python",
   "name": "python3"
  },
  "language_info": {
   "codemirror_mode": {
    "name": "ipython",
    "version": 3
   },
   "file_extension": ".py",
   "mimetype": "text/x-python",
   "name": "python",
   "nbconvert_exporter": "python",
   "pygments_lexer": "ipython3",
   "version": "3.10.12"
  }
 },
 "nbformat": 4,
 "nbformat_minor": 2
}
